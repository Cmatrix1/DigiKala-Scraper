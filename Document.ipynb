{
 "cells": [
  {
   "cell_type": "code",
   "execution_count": null,
   "metadata": {},
   "outputs": [],
   "source": [
    "from selenium import webdriver\n",
    "from selenium.webdriver.common.by import By\n",
    "from time import sleep\n",
    "from selenium.webdriver.common.keys import Keys\n",
    "from unidecode import unidecode\n",
    "from bs4 import BeautifulSoup\n",
    "from Database import Laptops, session\n",
    "\n",
    "\n",
    "driver = webdriver.Firefox(executable_path=\"C://geckodriver.exe\")\n",
    "\n",
    "def check_element_exist(mode, inp):\n",
    "    try:\n",
    "        return driver.find_element(mode, inp)\n",
    "    except:\n",
    "        return False"
   ]
  },
  {
   "cell_type": "code",
   "execution_count": null,
   "metadata": {},
   "outputs": [],
   "source": [
    "def validate_pagination(pagination):\n",
    "    try:\n",
    "        num = pagination.text.split()[-1]\n",
    "        return unidecode(num)\n",
    "    except Exception as err:\n",
    "        print(err)\n",
    "        print(\"Valid pagination\")\n",
    "        return 100\n",
    "\n",
    "def load_all_page(url):\n",
    "    driver.get(url)\n",
    "    body = driver.find_element(\"tag name\", \"html\")\n",
    "    pagination = check_element_exist(\"xpath\", \"/html/body/div[1]/div[1]/div[3]/div[3]/div[1]/div/section[1]/div[2]/div[2]/div[2]\")\n",
    "    while not pagination:\n",
    "        print(\"[-] Not Found Element\")\n",
    "        body.send_keys(Keys.END)\n",
    "        sleep(2)\n",
    "        pagination = check_element_exist(\"xpath\", \"/html/body/div[1]/div[1]/div[3]/div[3]/div[1]/div/section[1]/div[2]/div[2]/div[2]\")\n",
    "\n",
    "    sleep(3)\n",
    "    print(\"[+] Found Element\")\n",
    "    return validate_pagination(pagination)"
   ]
  },
  {
   "cell_type": "code",
   "execution_count": null,
   "metadata": {},
   "outputs": [],
   "source": [
    "\n",
    "file = open(\"mobiles.csv\", \"a\", encoding=\"utf-8\")\n",
    "\n",
    "\n",
    "def extract_products():\n",
    "    soup = BeautifulSoup(driver.page_source, 'html.parser')\n",
    "    source = soup.find(\"div\", {\"class\": \"d-flex flex-wrap\"})\n",
    "    return source.find_all(\"div\", {\"class\": \"border-b border-l\"})\n",
    "\n",
    "def validate_link(link):\n",
    "    valid = link.split(\"/\")[:3]\n",
    "    return \"/\".join(valid)\n",
    "\n",
    "def extract_product_information(products):\n",
    "    objects = []\n",
    "    for product in products:\n",
    "        link = validate_link(product.find(\"a\")[\"href\"])\n",
    "        image = product.find(\"img\")[\"data-src\"]\n",
    "        name = product.find(\"h2\").text\n",
    "        try:\n",
    "            price = product.find(class_=\"d-flex ai-center jc-end gap-1 color-700 color-400 text-h5 grow-1\").span.text\n",
    "            file.write(f\"{link}, {image}, {name}, {unidecode(price)},\\n\")\n",
    "            objects.append(Laptops(link=link, photo=image, name=name, price=unidecode(price)))\n",
    "        except:\n",
    "            return False\n",
    "    session.add_all(objects)\n",
    "    session.commit()\n",
    "    print(\"Add \", len(objects), \"Objects in DataBase\")\n"
   ]
  },
  {
   "cell_type": "code",
   "execution_count": null,
   "metadata": {},
   "outputs": [],
   "source": [
    "core_url = \"https://www.digikala.com/search/category-notebook-netbook-ultrabook/\"\n",
    "count = load_all_page(core_url)\n",
    "pages = [i for i in range(1, int(count))]\n",
    "cant = open(\"cant.txt\", \"a\")"
   ]
  },
  {
   "cell_type": "code",
   "execution_count": null,
   "metadata": {},
   "outputs": [],
   "source": [
    "\n",
    "for page in pages:\n",
    "    url = core_url+\"?page=\"+str(page)\n",
    "    try:\n",
    "        load_all_page(url=url)\n",
    "        products = extract_products()\n",
    "        output = extract_product_information(products)\n",
    "        print(\"Extract Information\", page)\n",
    "        if output == False:\n",
    "            print(\"Products Ended\")\n",
    "            break\n",
    "    except Exception as err:\n",
    "        cant.write(url+\"\\n\")\n",
    "        print(err ,\" on page\",page)"
   ]
  }
 ],
 "metadata": {
  "kernelspec": {
   "display_name": "Python 3.8.2 64-bit",
   "language": "python",
   "name": "python3"
  },
  "language_info": {
   "codemirror_mode": {
    "name": "ipython",
    "version": 3
   },
   "file_extension": ".py",
   "mimetype": "text/x-python",
   "name": "python",
   "nbconvert_exporter": "python",
   "pygments_lexer": "ipython3",
   "version": "3.8.2"
  },
  "orig_nbformat": 4,
  "vscode": {
   "interpreter": {
    "hash": "6a926afa313b26ae1264fdcf81c726a97e69f6ba2ba780f6aa901948710f8d6e"
   }
  }
 },
 "nbformat": 4,
 "nbformat_minor": 2
}
