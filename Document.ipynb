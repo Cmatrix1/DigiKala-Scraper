{
 "cells": [
  {
   "cell_type": "markdown",
   "metadata": {},
   "source": [
    "### Import the requirements librarys\n",
    "- Slenium for Web Sraping and Open Browser\n",
    "- time for wait for load the pages\n",
    "- unidecode for Convert Persian numbers to English\n",
    "- Bs4 for pulling data out of HTML\n",
    "- Database is file in this directory"
   ]
  },
  {
   "cell_type": "code",
   "execution_count": 3,
   "metadata": {},
   "outputs": [
    {
     "name": "stdout",
     "output_type": "stream",
     "text": [
      "2022-08-25 12:54:39,461 INFO sqlalchemy.engine.Engine BEGIN (implicit)\n",
      "2022-08-25 12:54:39,463 INFO sqlalchemy.engine.Engine PRAGMA main.table_info(\"Phones\")\n",
      "2022-08-25 12:54:39,465 INFO sqlalchemy.engine.Engine [raw sql] ()\n",
      "2022-08-25 12:54:39,467 INFO sqlalchemy.engine.Engine COMMIT\n"
     ]
    },
    {
     "data": {
      "text/plain": [
       "1"
      ]
     },
     "execution_count": 3,
     "metadata": {},
     "output_type": "execute_result"
    }
   ],
   "source": [
    "from selenium import webdriver\n",
    "from selenium.webdriver.common.by import By\n",
    "from time import sleep\n",
    "from selenium.webdriver.common.keys import Keys\n",
    "from unidecode import unidecode\n",
    "from bs4 import BeautifulSoup\n",
    "from os import system\n",
    "from DataBase import Phones, session\n",
    "\n",
    "system(\"clear\")"
   ]
  },
  {
   "cell_type": "markdown",
   "metadata": {},
   "source": [
    "- The function checks whether the element is on the page or not"
   ]
  },
  {
   "cell_type": "code",
   "execution_count": 4,
   "metadata": {},
   "outputs": [],
   "source": [
    "def check_element_exist(mode, inp):\n",
    "    try:\n",
    "        return driver.find_element(mode, inp)\n",
    "    except:\n",
    "        return False"
   ]
  },
  {
   "cell_type": "markdown",
   "metadata": {},
   "source": [
    "- This is function for load the digikala pages \n",
    "- This function looks for pagination because pagination is loaded when the entire content is loaded"
   ]
  },
  {
   "cell_type": "code",
   "execution_count": 5,
   "metadata": {},
   "outputs": [],
   "source": [
    "def load_all_page(url):\n",
    "    print(\"[x] Waiting For Load Page \", url) ## LOG\n",
    "    driver.get(url)\n",
    "    body = driver.find_element(\"tag name\", \"html\")\n",
    "    pagination = check_element_exist(\"xpath\", \"/html/body/div[1]/div[1]/div[3]/div[3]/div[1]/div/section[1]/div[2]/div[2]/div[2]\")\n",
    "    while not pagination:\n",
    "        print(\"[x] Try to Loading Page\", url) ## LOG\n",
    "        body.send_keys(Keys.END)\n",
    "        sleep(2)\n",
    "        pagination = check_element_exist(\"xpath\", \"/html/body/div[1]/div[1]/div[3]/div[3]/div[1]/div/section[1]/div[2]/div[2]/div[2]\")\n",
    "    sleep(3)\n",
    "    print(f\"[+] Page {url} Loaded\") ## LOG"
   ]
  },
  {
   "cell_type": "markdown",
   "metadata": {},
   "source": [
    "- This function is used to shorten the Url of the product image"
   ]
  },
  {
   "cell_type": "code",
   "execution_count": 6,
   "metadata": {},
   "outputs": [],
   "source": [
    "def shorten_link(link):\n",
    "    valid = link.split(\"/\")[:3]\n",
    "    return \"/\".join(valid)"
   ]
  },
  {
   "cell_type": "markdown",
   "metadata": {},
   "source": [
    "- This function extracts the elements of all the products on the page"
   ]
  },
  {
   "cell_type": "code",
   "execution_count": 7,
   "metadata": {},
   "outputs": [],
   "source": [
    "def extract_products():\n",
    "    soup = BeautifulSoup(driver.page_source, 'html.parser')\n",
    "    source = soup.find(\"div\", {\"class\": \"d-flex flex-wrap\"})\n",
    "    return source.find_all(\"div\", {\"class\": \"border-b border-l\"})"
   ]
  },
  {
   "cell_type": "markdown",
   "metadata": {},
   "source": [
    "- This function is used to extract detailed product information and checks if the product price element is \"ناموجود\" (unavailable)and exits the program if it is not available"
   ]
  },
  {
   "cell_type": "code",
   "execution_count": 8,
   "metadata": {},
   "outputs": [],
   "source": [
    "def extract_product_information(products):\n",
    "    objects = []\n",
    "    for product in products:\n",
    "        link = shorten_link(product.find(\"a\")[\"href\"])\n",
    "        image = product.find(\"img\")[\"data-src\"]\n",
    "        name = product.find(\"h2\").text\n",
    "        try:\n",
    "            price = product.find(class_=\"d-flex ai-center jc-end gap-1 color-700 color-400 text-h5 grow-1\").span.text\n",
    "            objects.append(Phones(link=link, photo=image, name=name, price=unidecode(price)))\n",
    "            system(\"clear\")\n",
    "        except:\n",
    "            return False\n",
    "    session.add_all(objects)\n",
    "    session.commit()\n",
    "    system(\"clear\")\n",
    "\n",
    "    print(\"[+] Add \", len(objects), \"Objects in DataBase\") ## LOG"
   ]
  },
  {
   "cell_type": "markdown",
   "metadata": {},
   "source": [
    "- This function connects all program functions together\n",
    "First, the user adds the first page to the input link and starts loading the page and products "
   ]
  },
  {
   "cell_type": "code",
   "execution_count": 16,
   "metadata": {},
   "outputs": [],
   "source": [
    "def main(url):\n",
    "    ## Example Url \"https://www.digikala.com/search/category-notebook-netbook-ultrabook/\"\n",
    "    cant = open(\"cant.txt\", \"a\")\n",
    "    for i in range(1, 100):\n",
    "        url_p = url+\"?page=\"+str(i)\n",
    "        try:\n",
    "            load_all_page(url=url_p)\n",
    "            products = extract_products()\n",
    "            output = extract_product_information(products)\n",
    "            if output == False:\n",
    "                print(\"[+] Products Ended\") ## LOG\n",
    "                break\n",
    "        except Exception as err:\n",
    "            cant.write(url+\"\\n\")\n",
    "            print(\"[-] Error On Page \", url_p)"
   ]
  },
  {
   "cell_type": "markdown",
   "metadata": {},
   "source": [
    "- And here we get input from the user and open the browser and load the url"
   ]
  },
  {
   "cell_type": "code",
   "execution_count": 17,
   "metadata": {},
   "outputs": [
    {
     "name": "stdout",
     "output_type": "stream",
     "text": [
      "[x] Waiting For Load Driver . . .\n"
     ]
    },
    {
     "name": "stderr",
     "output_type": "stream",
     "text": [
      "C:\\Users\\user\\AppData\\Local\\Temp\\ipykernel_11136\\3891079766.py:4: DeprecationWarning: executable_path has been deprecated, please pass in a Service object\n",
      "  driver = webdriver.Firefox(executable_path=\"C://geckodriver.exe\")\n"
     ]
    },
    {
     "name": "stdout",
     "output_type": "stream",
     "text": [
      "[x] Waiting For Load Page  https://www.digikala.com/search/category-mobile-phone/product-list/?page=1\n",
      "[+] Page https://www.digikala.com/search/category-mobile-phone/product-list/?page=1 Loaded\n",
      "2022-08-25 13:02:09,944 INFO sqlalchemy.engine.Engine BEGIN (implicit)\n",
      "2022-08-25 13:02:09,948 INFO sqlalchemy.engine.Engine INSERT INTO \"Phones\" (link, photo, name, price) VALUES (?, ?, ?, ?)\n",
      "2022-08-25 13:02:09,950 INFO sqlalchemy.engine.Engine [cached since 134.7s ago] ('/product/dkp-6460974', '/statics/img/svg/productCard/topBadge/SpecialSell.svg', 'گوشی موبایل اپل مدل iPhone 13 Pro Max A2644 دو سیم\\u200c کارت ظرفیت 256 گیگابایت و رم 6 گیگابایت', '53,389,000')\n",
      "2022-08-25 13:02:09,958 INFO sqlalchemy.engine.Engine INSERT INTO \"Phones\" (link, photo, name, price) VALUES (?, ?, ?, ?)\n",
      "2022-08-25 13:02:09,961 INFO sqlalchemy.engine.Engine [cached since 134.7s ago] ('/product/dkp-7845430', 'https://dkstatics-public.digikala.com/digikala-products/e477016feaff5a6e6cf930517134eb3888c887ef_1656404674.jpg?x-oss-process=image/resize,m_lfit,h_300,w_300/quality,q_80', 'گوشی موبایل شیائومی مدل Redmi Note 11 دو سیم\\u200c کارت ظرفیت 128 گیگابایت و رم 6 گیگابایت', '5,599,000')\n",
      "2022-08-25 13:02:09,966 INFO sqlalchemy.engine.Engine INSERT INTO \"Phones\" (link, photo, name, price) VALUES (?, ?, ?, ?)\n",
      "2022-08-25 13:02:09,970 INFO sqlalchemy.engine.Engine [cached since 134.7s ago] ('/product/dkp-8123707', 'https://dkstatics-public.digikala.com/digikala-products/932752a3594b8f5d1ddfa62fe4d2a29824096916_1656405344.jpg?x-oss-process=image/resize,m_lfit,h_300,w_300/quality,q_80', 'گوشی موبایل شیائومی مدل Poco X4 Pro 5G 2201116PG دو سیم کارت ظرفیت 256 گیگابایت و رم 8 گیگابایت', '8,999,000')\n",
      "2022-08-25 13:02:09,993 INFO sqlalchemy.engine.Engine INSERT INTO \"Phones\" (link, photo, name, price) VALUES (?, ?, ?, ?)\n",
      "2022-08-25 13:02:09,995 INFO sqlalchemy.engine.Engine [cached since 134.8s ago] ('/product/dkp-8246609', 'https://dkstatics-public.digikala.com/digikala-products/744896f967cc8505a9c424c0b00692d72932b53b_1656422331.jpg?x-oss-process=image/resize,m_lfit,h_300,w_300/quality,q_80', 'گوشی موبایل سامسونگ مدل Galaxy A13 SM-A135F/DS دو سیم کارت ظرفیت 64 گیگابایت و رم 4 گیگابایت', '4,549,000')\n",
      "2022-08-25 13:02:10,003 INFO sqlalchemy.engine.Engine INSERT INTO \"Phones\" (link, photo, name, price) VALUES (?, ?, ?, ?)\n",
      "2022-08-25 13:02:10,005 INFO sqlalchemy.engine.Engine [cached since 134.8s ago] ('/product/dkp-8119459', 'https://dkstatics-public.digikala.com/digikala-products/871b53a2236bf90e7e37337b1089c39f5c5175ff_1656422780.jpg?x-oss-process=image/resize,m_lfit,h_300,w_300/quality,q_80', 'گوشی موبایل سامسونگ مدل Galaxy A53 5G SM-A536E/DS دو سیم کارت ظرفیت 256 گیگابایت و رم 8 گیگابایت', '11,489,000')\n",
      "2022-08-25 13:02:10,019 INFO sqlalchemy.engine.Engine INSERT INTO \"Phones\" (link, photo, name, price) VALUES (?, ?, ?, ?)\n",
      "2022-08-25 13:02:10,021 INFO sqlalchemy.engine.Engine [cached since 134.8s ago] ('/product/dkp-7475119', 'https://dkstatics-public.digikala.com/digikala-products/4af1bad23ab1945fa5cef6a333792196e0fe850e_1656426417.jpg?x-oss-process=image/resize,m_lfit,h_300,w_300/quality,q_80', 'گوشی موبایل سامسونگ مدل Galaxy S21 FE 5G دو سیم\\u200c کارت ظرفیت 256 گیگابایت و رم 8 گیگابایت', '18,600,000')\n",
      "2022-08-25 13:02:10,025 INFO sqlalchemy.engine.Engine INSERT INTO \"Phones\" (link, photo, name, price) VALUES (?, ?, ?, ?)\n",
      "2022-08-25 13:02:10,027 INFO sqlalchemy.engine.Engine [cached since 134.8s ago] ('/product/dkp-8086833', 'https://dkstatics-public.digikala.com/digikala-products/3b80e5838f5ff4f674f82d5615296c06cd4f9f8c_1656404956.jpg?x-oss-process=image/resize,m_lfit,h_300,w_300/quality,q_80', 'گوشی موبایل سامسونگ مدل Galaxy S22 Ultra 5G دو سیم کارت ظرفیت 256 گیگابایت و رم 12 گیگابایت نسخه اسنپدراگون ', '40,400,000')\n",
      "2022-08-25 13:02:10,032 INFO sqlalchemy.engine.Engine INSERT INTO \"Phones\" (link, photo, name, price) VALUES (?, ?, ?, ?)\n",
      "2022-08-25 13:02:10,036 INFO sqlalchemy.engine.Engine [cached since 134.8s ago] ('/product/dkp-8202469', 'https://dkstatics-public.digikala.com/digikala-products/f7f8ffb33f96cb971bec78e2ee1d84dbb09a2a00_1649225266.jpg?x-oss-process=image/resize,m_lfit,h_300,w_300/quality,q_80', 'گوشی موبایل اپل مدل iPhone SE 2022 تک سیم کارت ظرفیت 128 گیگابایت و رم 4 گیگابایت ', '16,870,000')\n",
      "2022-08-25 13:02:10,040 INFO sqlalchemy.engine.Engine INSERT INTO \"Phones\" (link, photo, name, price) VALUES (?, ?, ?, ?)\n",
      "2022-08-25 13:02:10,043 INFO sqlalchemy.engine.Engine [cached since 134.8s ago] ('/product/dkp-6529028', 'https://dkstatics-public.digikala.com/digikala-products/5ea3266da69e43e8165147cd256152dd1d6bc966_1656426532.jpg?x-oss-process=image/resize,m_lfit,h_300,w_300/quality,q_80', 'گوشی موبایل سامسونگ مدلGalaxy A52s 5G SM-A528B/DS دو سیم کارت ظرفیت 128 گیگابایت و رم 8 گیگابایت', '10,199,000')\n",
      "2022-08-25 13:02:10,045 INFO sqlalchemy.engine.Engine INSERT INTO \"Phones\" (link, photo, name, price) VALUES (?, ?, ?, ?)\n",
      "2022-08-25 13:02:10,051 INFO sqlalchemy.engine.Engine [cached since 134.8s ago] ('/product/dkp-5986643', 'https://dkstatics-public.digikala.com/digikala-products/4fd57505f8871f90ba2165c78410caad711ecd8c_1656426267.jpg?x-oss-process=image/resize,m_lfit,h_300,w_300/quality,q_80', 'گوشی موبایل شیائومی مدل Redmi Note 10 pro M2101K6G دو سیم\\u200c کارت ظرفیت 128 گیگابایت و رم 8 گیگابایت', '7,199,000')\n",
      "2022-08-25 13:02:10,054 INFO sqlalchemy.engine.Engine INSERT INTO \"Phones\" (link, photo, name, price) VALUES (?, ?, ?, ?)\n",
      "2022-08-25 13:02:10,056 INFO sqlalchemy.engine.Engine [cached since 134.8s ago] ('/product/dkp-8379059', 'https://dkstatics-public.digikala.com/digikala-products/feaa219132085f34d5f9d09b6bef8bb58173b499_1656423671.jpg?x-oss-process=image/resize,m_lfit,h_300,w_300/quality,q_80', 'گوشی موبایل شیائومی مدل Redmi Note 11 Pro Plus 5G 21091116UG دو سیم\\u200c کارت ظرفیت 256 گیگابایت و رم 8 گیگابایت', '11,329,000')\n",
      "2022-08-25 13:02:10,059 INFO sqlalchemy.engine.Engine INSERT INTO \"Phones\" (link, photo, name, price) VALUES (?, ?, ?, ?)\n",
      "2022-08-25 13:02:10,061 INFO sqlalchemy.engine.Engine [cached since 134.8s ago] ('/product/dkp-8324963', 'https://dkstatics-public.digikala.com/digikala-products/4a54e534d46dedeefd055ea516ff44416dd5ca6a_1656405590.jpg?x-oss-process=image/resize,m_lfit,h_300,w_300/quality,q_80', 'گوشی موبایل شیائومی مدل Mi 11 Ultra M2102K1C دو سیم کارت ظرفیت 512 گیگابایت و رم 12 گیگابایت', '35,450,000')\n",
      "2022-08-25 13:02:10,062 INFO sqlalchemy.engine.Engine INSERT INTO \"Phones\" (link, photo, name, price) VALUES (?, ?, ?, ?)\n",
      "2022-08-25 13:02:10,068 INFO sqlalchemy.engine.Engine [cached since 134.8s ago] ('/product/dkp-8093528', 'https://dkstatics-public.digikala.com/digikala-products/0a08d06fc0edeb656e2e3c93f0b4c372b815db73_1647170794.jpg?x-oss-process=image/resize,m_lfit,h_300,w_300/quality,q_80', 'گوشی موبایل شیائومی مدل POCO M4 Pro 2201117PG دو سیم کارت ظرفیت 128 گیگابایت و رم 6 گیگابایت', '5,980,000')\n",
      "2022-08-25 13:02:10,070 INFO sqlalchemy.engine.Engine INSERT INTO \"Phones\" (link, photo, name, price) VALUES (?, ?, ?, ?)\n",
      "2022-08-25 13:02:10,073 INFO sqlalchemy.engine.Engine [cached since 134.8s ago] ('/product/dkp-4884468', 'https://dkstatics-public.digikala.com/digikala-products/27d4c15bac742ed10d42d05f40650f507dc7955e_1661322065.jpg?x-oss-process=image/resize,m_lfit,h_300,w_300/quality,q_80', 'گوشی موبایل سامسونگ مدل Galaxy A52 SM-A525 دو سیم\\u200cکارت ظرفیت 128 گیگابایت و رم 8 گیگابایت', '8,119,000')\n",
      "2022-08-25 13:02:10,075 INFO sqlalchemy.engine.Engine COMMIT\n",
      "[+] Add  14 Objects in DataBase\n",
      "[x] Waiting For Load Page  https://www.digikala.com/search/category-mobile-phone/product-list/?page=2\n",
      "[x] Try to Loading Page https://www.digikala.com/search/category-mobile-phone/product-list/?page=2\n",
      "[+] Page https://www.digikala.com/search/category-mobile-phone/product-list/?page=2 Loaded\n",
      "2022-08-25 13:02:22,636 INFO sqlalchemy.engine.Engine BEGIN (implicit)\n",
      "2022-08-25 13:02:22,638 INFO sqlalchemy.engine.Engine INSERT INTO \"Phones\" (link, photo, name, price) VALUES (?, ?, ?, ?)\n",
      "2022-08-25 13:02:22,639 INFO sqlalchemy.engine.Engine [cached since 147.4s ago] ('/product/dkp-8655064', 'https://dkstatics-public.digikala.com/digikala-products/9fd4d980776d3e609ff538fc6b6bfbdd575ee620_1654086460.jpg?x-oss-process=image/resize,m_lfit,h_300,w_300/quality,q_80', 'گوشی موبایل سامسونگ مدل  Galaxy A73 5G SM-A736B/DS دو سیم کارت ظرفیت 128 گیگابایت و رم 8 گیگابایت', '12,299,000')\n",
      "2022-08-25 13:02:22,653 INFO sqlalchemy.engine.Engine INSERT INTO \"Phones\" (link, photo, name, price) VALUES (?, ?, ?, ?)\n",
      "2022-08-25 13:02:22,657 INFO sqlalchemy.engine.Engine [cached since 147.4s ago] ('/product/dkp-6351381', '/statics/img/svg/productCard/topBadge/SpecialSell.svg', 'گوشی موبایل سامسونگ مدل Galaxy A52s 5G SM-A528B/DS دو سیم\\u200cکارت ظرفیت 256 گیگابایت و رم 8 گیگابایت', '11,729,000')\n",
      "2022-08-25 13:02:22,659 INFO sqlalchemy.engine.Engine INSERT INTO \"Phones\" (link, photo, name, price) VALUES (?, ?, ?, ?)\n",
      "2022-08-25 13:02:22,662 INFO sqlalchemy.engine.Engine [cached since 147.4s ago] ('/product/dkp-6241822', 'https://dkstatics-public.digikala.com/digikala-products/b7b779a785f7edefa150aac3f793972bbf707dcb_1656426843.jpg?x-oss-process=image/resize,m_lfit,h_300,w_300/quality,q_80', 'گوشی موبایل سامسونگ مدل Galaxy A12 Nacho SM-A127F/DS دو سیم کارت ظرفیت 64 گیگابایت و رم 4 گیگابایت', '4,549,000')\n",
      "2022-08-25 13:02:22,676 INFO sqlalchemy.engine.Engine INSERT INTO \"Phones\" (link, photo, name, price) VALUES (?, ?, ?, ?)\n",
      "2022-08-25 13:02:22,707 INFO sqlalchemy.engine.Engine [cached since 147.5s ago] ('/product/dkp-8364953', 'https://dkstatics-public.digikala.com/digikala-products/1b95a4ca2d5643f2b03f3721adef4cede444d3c5_1656406812.jpg?x-oss-process=image/resize,m_lfit,h_300,w_300/quality,q_80', 'گوشی موبایل سامسونگ مدل  Galaxy A73 5G SM-A736B/DS دو سیم کارت ظرفیت 256 گیگابایت و رم 8 گیگابایت', '14,439,000')\n",
      "2022-08-25 13:02:22,719 INFO sqlalchemy.engine.Engine INSERT INTO \"Phones\" (link, photo, name, price) VALUES (?, ?, ?, ?)\n",
      "2022-08-25 13:02:22,722 INFO sqlalchemy.engine.Engine [cached since 147.5s ago] ('/product/dkp-8093113', 'https://dkstatics-public.digikala.com/digikala-products/e61958991d5905572f1a5385af53ef57376a0cb6_1656406171.jpg?x-oss-process=image/resize,m_lfit,h_300,w_300/quality,q_80', 'گوشی موبایل شیائومی مدل  Redmi Note 11S 2201117SG دو سیم کارت ظرفیت 128 گیگابایت و رم 8 گیگابایت', '7,059,000')\n",
      "2022-08-25 13:02:22,729 INFO sqlalchemy.engine.Engine INSERT INTO \"Phones\" (link, photo, name, price) VALUES (?, ?, ?, ?)\n",
      "2022-08-25 13:02:22,732 INFO sqlalchemy.engine.Engine [cached since 147.5s ago] ('/product/dkp-7179262', '/statics/img/svg/productCard/topBadge/SpecialSell.svg', 'گوشی موبایل شیائومی مدل 11T Pro 2107113SG 5G دو سیم\\u200c کارت ظرفیت 256 گیگابایت و رم 8 گیگابایت', '13,499,000')\n",
      "2022-08-25 13:02:22,735 INFO sqlalchemy.engine.Engine INSERT INTO \"Phones\" (link, photo, name, price) VALUES (?, ?, ?, ?)\n",
      "2022-08-25 13:02:22,738 INFO sqlalchemy.engine.Engine [cached since 147.5s ago] ('/product/dkp-6461003', 'https://dkstatics-public.digikala.com/digikala-products/2108647c04c8ff8206c7ba86aceb8b4173f06fcf_1656430680.jpg?x-oss-process=image/resize,m_lfit,h_300,w_300/quality,q_80', 'گوشی موبایل اپل مدل iPhone 13 Pro A2639 دو سیم\\u200c کارت ظرفیت 256 گیگابایت و 6 گیگابایت رم', '48,890,000')\n",
      "2022-08-25 13:02:22,740 INFO sqlalchemy.engine.Engine INSERT INTO \"Phones\" (link, photo, name, price) VALUES (?, ?, ?, ?)\n",
      "2022-08-25 13:02:22,742 INFO sqlalchemy.engine.Engine [cached since 147.5s ago] ('/product/dkp-8094471', 'https://dkstatics-public.digikala.com/digikala-products/2a9b44d5b63353967db5ccd98659ba8f07bfe8de_1647176377.jpg?x-oss-process=image/resize,m_lfit,h_300,w_300/quality,q_80', 'گوشی موبایل شیائومی مدل POCO M4 Pro 2201117PG دو سیم کارت ظرفیت 256 گیگابایت و رم 8 گیگابایت', '6,899,000')\n",
      "2022-08-25 13:02:22,747 INFO sqlalchemy.engine.Engine INSERT INTO \"Phones\" (link, photo, name, price) VALUES (?, ?, ?, ?)\n",
      "2022-08-25 13:02:22,751 INFO sqlalchemy.engine.Engine [cached since 147.5s ago] ('/product/dkp-8366616', 'https://dkstatics-public.digikala.com/digikala-products/ec9a962187e1f82cc47e7a148ef99ec1c6fd024d_1656423336.jpg?x-oss-process=image/resize,m_lfit,h_300,w_300/quality,q_80', 'گوشی موبایل اپل مدل iPhone 13 CH دو سیم\\u200c کارت ظرفیت 128 گیگابایت و رم 4 گیگابایت', '35,500,000')\n",
      "2022-08-25 13:02:22,753 INFO sqlalchemy.engine.Engine INSERT INTO \"Phones\" (link, photo, name, price) VALUES (?, ?, ?, ?)\n",
      "2022-08-25 13:02:22,756 INFO sqlalchemy.engine.Engine [cached since 147.5s ago] ('/product/dkp-7066059', '/statics/img/svg/productCard/topBadge/SpecialSell.svg', 'گوشی موبایل سامسونگ مدل Galaxy A22 5G SM-A226B/DSN دو سیم\\u200c کارت ظرفیت 128 گیگابایت و 4 گیگابایت رم ', '5,219,000')\n",
      "2022-08-25 13:02:22,760 INFO sqlalchemy.engine.Engine INSERT INTO \"Phones\" (link, photo, name, price) VALUES (?, ?, ?, ?)\n",
      "2022-08-25 13:02:22,763 INFO sqlalchemy.engine.Engine [cached since 147.5s ago] ('/product/dkp-7065766', 'https://dkstatics-public.digikala.com/digikala-products/5d2be839e2ba87c3aec64149587ef9db6db6b5e9_1656429527.jpg?x-oss-process=image/resize,m_lfit,h_300,w_300/quality,q_80', 'گوشی موبایل سامسونگ مدل Galaxy A52s 5G SM-A528B/DS دو سیم کارت ظرفیت 128 گیگابایت و رم 6 گیگابایت', '9,670,000')\n",
      "2022-08-25 13:02:22,765 INFO sqlalchemy.engine.Engine INSERT INTO \"Phones\" (link, photo, name, price) VALUES (?, ?, ?, ?)\n",
      "2022-08-25 13:02:22,768 INFO sqlalchemy.engine.Engine [cached since 147.5s ago] ('/product/dkp-8407912', 'https://dkstatics-public.digikala.com/digikala-products/59dc16202ed84e7920bdacc771a576e503868945_1656428139.jpg?x-oss-process=image/resize,m_lfit,h_300,w_300/quality,q_80', 'گوشی موبایل سامسونگ مدل Galaxy A13 SM-A135F/DS دو سیم کارت ظرفیت 128 گیگابایت و رم 4 گیگابایت', '5,250,000')\n",
      "2022-08-25 13:02:22,770 INFO sqlalchemy.engine.Engine INSERT INTO \"Phones\" (link, photo, name, price) VALUES (?, ?, ?, ?)\n",
      "2022-08-25 13:02:22,771 INFO sqlalchemy.engine.Engine [cached since 147.5s ago] ('/product/dkp-8580278', 'https://dkstatics-public.digikala.com/digikala-products/ab5a64785ceb70f2e8dd76534627efa6a8f22d8e_1656405798.jpg?x-oss-process=image/resize,m_lfit,h_300,w_300/quality,q_80', 'گوشی موبایل هوآوی مدل P50 Pocket Premium Edition دو سیم\\u200c کارت ظرفیت 512 گیگابایت و رم 12 گیگابایت', '48,990,000')\n",
      "2022-08-25 13:02:22,772 INFO sqlalchemy.engine.Engine INSERT INTO \"Phones\" (link, photo, name, price) VALUES (?, ?, ?, ?)\n",
      "2022-08-25 13:02:22,774 INFO sqlalchemy.engine.Engine [cached since 147.5s ago] ('/product/dkp-8627776', 'https://dkstatics-public.digikala.com/digikala-products/4da1178102aeaa6fe5b66d6acf432320e1ba1968_1656424471.jpg?x-oss-process=image/resize,m_lfit,h_300,w_300/quality,q_80', 'گوشی موبایل سامسونگ مدل Galaxy A33 5G SM-A336 دو سیم کارت ظرفیت 128 گیگابایت و رم 6 گیگابایت', '7,700,000')\n",
      "2022-08-25 13:02:22,776 INFO sqlalchemy.engine.Engine COMMIT\n",
      "[+] Add  14 Objects in DataBase\n",
      "[x] Waiting For Load Page  https://www.digikala.com/search/category-mobile-phone/product-list/?page=3\n",
      "[-] Error On Page  https://www.digikala.com/search/category-mobile-phone/product-list/?page=3\n",
      "[x] Waiting For Load Page  https://www.digikala.com/search/category-mobile-phone/product-list/?page=4\n",
      "[-] Error On Page  https://www.digikala.com/search/category-mobile-phone/product-list/?page=4\n",
      "[x] Waiting For Load Page  https://www.digikala.com/search/category-mobile-phone/product-list/?page=5\n",
      "[-] Error On Page  https://www.digikala.com/search/category-mobile-phone/product-list/?page=5\n",
      "[x] Waiting For Load Page  https://www.digikala.com/search/category-mobile-phone/product-list/?page=6\n",
      "[-] Error On Page  https://www.digikala.com/search/category-mobile-phone/product-list/?page=6\n",
      "[x] Waiting For Load Page  https://www.digikala.com/search/category-mobile-phone/product-list/?page=7\n",
      "[-] Error On Page  https://www.digikala.com/search/category-mobile-phone/product-list/?page=7\n",
      "[x] Waiting For Load Page  https://www.digikala.com/search/category-mobile-phone/product-list/?page=8\n",
      "[-] Error On Page  https://www.digikala.com/search/category-mobile-phone/product-list/?page=8\n",
      "[x] Waiting For Load Page  https://www.digikala.com/search/category-mobile-phone/product-list/?page=9\n",
      "[-] Error On Page  https://www.digikala.com/search/category-mobile-phone/product-list/?page=9\n",
      "[x] Waiting For Load Page  https://www.digikala.com/search/category-mobile-phone/product-list/?page=10\n",
      "[-] Error On Page  https://www.digikala.com/search/category-mobile-phone/product-list/?page=10\n",
      "[x] Waiting For Load Page  https://www.digikala.com/search/category-mobile-phone/product-list/?page=11\n",
      "[-] Error On Page  https://www.digikala.com/search/category-mobile-phone/product-list/?page=11\n",
      "[x] Waiting For Load Page  https://www.digikala.com/search/category-mobile-phone/product-list/?page=12\n",
      "[-] Error On Page  https://www.digikala.com/search/category-mobile-phone/product-list/?page=12\n",
      "[x] Waiting For Load Page  https://www.digikala.com/search/category-mobile-phone/product-list/?page=13\n",
      "[-] Error On Page  https://www.digikala.com/search/category-mobile-phone/product-list/?page=13\n",
      "[x] Waiting For Load Page  https://www.digikala.com/search/category-mobile-phone/product-list/?page=14\n",
      "[-] Error On Page  https://www.digikala.com/search/category-mobile-phone/product-list/?page=14\n",
      "[x] Waiting For Load Page  https://www.digikala.com/search/category-mobile-phone/product-list/?page=15\n",
      "[-] Error On Page  https://www.digikala.com/search/category-mobile-phone/product-list/?page=15\n",
      "[x] Waiting For Load Page  https://www.digikala.com/search/category-mobile-phone/product-list/?page=16\n",
      "[-] Error On Page  https://www.digikala.com/search/category-mobile-phone/product-list/?page=16\n",
      "[x] Waiting For Load Page  https://www.digikala.com/search/category-mobile-phone/product-list/?page=17\n",
      "[-] Error On Page  https://www.digikala.com/search/category-mobile-phone/product-list/?page=17\n",
      "[x] Waiting For Load Page  https://www.digikala.com/search/category-mobile-phone/product-list/?page=18\n",
      "[-] Error On Page  https://www.digikala.com/search/category-mobile-phone/product-list/?page=18\n",
      "[x] Waiting For Load Page  https://www.digikala.com/search/category-mobile-phone/product-list/?page=19\n",
      "[-] Error On Page  https://www.digikala.com/search/category-mobile-phone/product-list/?page=19\n",
      "[x] Waiting For Load Page  https://www.digikala.com/search/category-mobile-phone/product-list/?page=20\n",
      "[-] Error On Page  https://www.digikala.com/search/category-mobile-phone/product-list/?page=20\n",
      "[x] Waiting For Load Page  https://www.digikala.com/search/category-mobile-phone/product-list/?page=21\n",
      "[-] Error On Page  https://www.digikala.com/search/category-mobile-phone/product-list/?page=21\n",
      "[x] Waiting For Load Page  https://www.digikala.com/search/category-mobile-phone/product-list/?page=22\n",
      "[-] Error On Page  https://www.digikala.com/search/category-mobile-phone/product-list/?page=22\n",
      "[x] Waiting For Load Page  https://www.digikala.com/search/category-mobile-phone/product-list/?page=23\n",
      "[-] Error On Page  https://www.digikala.com/search/category-mobile-phone/product-list/?page=23\n",
      "[x] Waiting For Load Page  https://www.digikala.com/search/category-mobile-phone/product-list/?page=24\n",
      "[-] Error On Page  https://www.digikala.com/search/category-mobile-phone/product-list/?page=24\n",
      "[x] Waiting For Load Page  https://www.digikala.com/search/category-mobile-phone/product-list/?page=25\n",
      "[-] Error On Page  https://www.digikala.com/search/category-mobile-phone/product-list/?page=25\n",
      "[x] Waiting For Load Page  https://www.digikala.com/search/category-mobile-phone/product-list/?page=26\n",
      "[-] Error On Page  https://www.digikala.com/search/category-mobile-phone/product-list/?page=26\n",
      "[x] Waiting For Load Page  https://www.digikala.com/search/category-mobile-phone/product-list/?page=27\n",
      "[-] Error On Page  https://www.digikala.com/search/category-mobile-phone/product-list/?page=27\n",
      "[x] Waiting For Load Page  https://www.digikala.com/search/category-mobile-phone/product-list/?page=28\n",
      "[-] Error On Page  https://www.digikala.com/search/category-mobile-phone/product-list/?page=28\n",
      "[x] Waiting For Load Page  https://www.digikala.com/search/category-mobile-phone/product-list/?page=29\n",
      "[-] Error On Page  https://www.digikala.com/search/category-mobile-phone/product-list/?page=29\n",
      "[x] Waiting For Load Page  https://www.digikala.com/search/category-mobile-phone/product-list/?page=30\n",
      "[-] Error On Page  https://www.digikala.com/search/category-mobile-phone/product-list/?page=30\n",
      "[x] Waiting For Load Page  https://www.digikala.com/search/category-mobile-phone/product-list/?page=31\n",
      "[-] Error On Page  https://www.digikala.com/search/category-mobile-phone/product-list/?page=31\n",
      "[x] Waiting For Load Page  https://www.digikala.com/search/category-mobile-phone/product-list/?page=32\n",
      "[-] Error On Page  https://www.digikala.com/search/category-mobile-phone/product-list/?page=32\n",
      "[x] Waiting For Load Page  https://www.digikala.com/search/category-mobile-phone/product-list/?page=33\n",
      "[-] Error On Page  https://www.digikala.com/search/category-mobile-phone/product-list/?page=33\n",
      "[x] Waiting For Load Page  https://www.digikala.com/search/category-mobile-phone/product-list/?page=34\n",
      "[-] Error On Page  https://www.digikala.com/search/category-mobile-phone/product-list/?page=34\n",
      "[x] Waiting For Load Page  https://www.digikala.com/search/category-mobile-phone/product-list/?page=35\n",
      "[-] Error On Page  https://www.digikala.com/search/category-mobile-phone/product-list/?page=35\n",
      "[x] Waiting For Load Page  https://www.digikala.com/search/category-mobile-phone/product-list/?page=36\n",
      "[-] Error On Page  https://www.digikala.com/search/category-mobile-phone/product-list/?page=36\n",
      "[x] Waiting For Load Page  https://www.digikala.com/search/category-mobile-phone/product-list/?page=37\n",
      "[-] Error On Page  https://www.digikala.com/search/category-mobile-phone/product-list/?page=37\n",
      "[x] Waiting For Load Page  https://www.digikala.com/search/category-mobile-phone/product-list/?page=38\n",
      "[-] Error On Page  https://www.digikala.com/search/category-mobile-phone/product-list/?page=38\n",
      "[x] Waiting For Load Page  https://www.digikala.com/search/category-mobile-phone/product-list/?page=39\n",
      "[-] Error On Page  https://www.digikala.com/search/category-mobile-phone/product-list/?page=39\n",
      "[x] Waiting For Load Page  https://www.digikala.com/search/category-mobile-phone/product-list/?page=40\n",
      "[-] Error On Page  https://www.digikala.com/search/category-mobile-phone/product-list/?page=40\n",
      "[x] Waiting For Load Page  https://www.digikala.com/search/category-mobile-phone/product-list/?page=41\n",
      "[-] Error On Page  https://www.digikala.com/search/category-mobile-phone/product-list/?page=41\n",
      "[x] Waiting For Load Page  https://www.digikala.com/search/category-mobile-phone/product-list/?page=42\n",
      "[-] Error On Page  https://www.digikala.com/search/category-mobile-phone/product-list/?page=42\n",
      "[x] Waiting For Load Page  https://www.digikala.com/search/category-mobile-phone/product-list/?page=43\n",
      "[-] Error On Page  https://www.digikala.com/search/category-mobile-phone/product-list/?page=43\n",
      "[x] Waiting For Load Page  https://www.digikala.com/search/category-mobile-phone/product-list/?page=44\n",
      "[-] Error On Page  https://www.digikala.com/search/category-mobile-phone/product-list/?page=44\n",
      "[x] Waiting For Load Page  https://www.digikala.com/search/category-mobile-phone/product-list/?page=45\n",
      "[-] Error On Page  https://www.digikala.com/search/category-mobile-phone/product-list/?page=45\n",
      "[x] Waiting For Load Page  https://www.digikala.com/search/category-mobile-phone/product-list/?page=46\n",
      "[-] Error On Page  https://www.digikala.com/search/category-mobile-phone/product-list/?page=46\n",
      "[x] Waiting For Load Page  https://www.digikala.com/search/category-mobile-phone/product-list/?page=47\n",
      "[-] Error On Page  https://www.digikala.com/search/category-mobile-phone/product-list/?page=47\n",
      "[x] Waiting For Load Page  https://www.digikala.com/search/category-mobile-phone/product-list/?page=48\n",
      "[-] Error On Page  https://www.digikala.com/search/category-mobile-phone/product-list/?page=48\n",
      "[x] Waiting For Load Page  https://www.digikala.com/search/category-mobile-phone/product-list/?page=49\n",
      "[-] Error On Page  https://www.digikala.com/search/category-mobile-phone/product-list/?page=49\n",
      "[x] Waiting For Load Page  https://www.digikala.com/search/category-mobile-phone/product-list/?page=50\n",
      "[-] Error On Page  https://www.digikala.com/search/category-mobile-phone/product-list/?page=50\n",
      "[x] Waiting For Load Page  https://www.digikala.com/search/category-mobile-phone/product-list/?page=51\n",
      "[-] Error On Page  https://www.digikala.com/search/category-mobile-phone/product-list/?page=51\n",
      "[x] Waiting For Load Page  https://www.digikala.com/search/category-mobile-phone/product-list/?page=52\n",
      "[-] Error On Page  https://www.digikala.com/search/category-mobile-phone/product-list/?page=52\n",
      "[x] Waiting For Load Page  https://www.digikala.com/search/category-mobile-phone/product-list/?page=53\n",
      "[-] Error On Page  https://www.digikala.com/search/category-mobile-phone/product-list/?page=53\n",
      "[x] Waiting For Load Page  https://www.digikala.com/search/category-mobile-phone/product-list/?page=54\n",
      "[-] Error On Page  https://www.digikala.com/search/category-mobile-phone/product-list/?page=54\n",
      "[x] Waiting For Load Page  https://www.digikala.com/search/category-mobile-phone/product-list/?page=55\n",
      "[-] Error On Page  https://www.digikala.com/search/category-mobile-phone/product-list/?page=55\n",
      "[x] Waiting For Load Page  https://www.digikala.com/search/category-mobile-phone/product-list/?page=56\n",
      "[-] Error On Page  https://www.digikala.com/search/category-mobile-phone/product-list/?page=56\n",
      "[x] Waiting For Load Page  https://www.digikala.com/search/category-mobile-phone/product-list/?page=57\n",
      "[-] Error On Page  https://www.digikala.com/search/category-mobile-phone/product-list/?page=57\n",
      "[x] Waiting For Load Page  https://www.digikala.com/search/category-mobile-phone/product-list/?page=58\n",
      "[-] Error On Page  https://www.digikala.com/search/category-mobile-phone/product-list/?page=58\n",
      "[x] Waiting For Load Page  https://www.digikala.com/search/category-mobile-phone/product-list/?page=59\n",
      "[-] Error On Page  https://www.digikala.com/search/category-mobile-phone/product-list/?page=59\n",
      "[x] Waiting For Load Page  https://www.digikala.com/search/category-mobile-phone/product-list/?page=60\n",
      "[-] Error On Page  https://www.digikala.com/search/category-mobile-phone/product-list/?page=60\n",
      "[x] Waiting For Load Page  https://www.digikala.com/search/category-mobile-phone/product-list/?page=61\n",
      "[-] Error On Page  https://www.digikala.com/search/category-mobile-phone/product-list/?page=61\n",
      "[x] Waiting For Load Page  https://www.digikala.com/search/category-mobile-phone/product-list/?page=62\n",
      "[-] Error On Page  https://www.digikala.com/search/category-mobile-phone/product-list/?page=62\n",
      "[x] Waiting For Load Page  https://www.digikala.com/search/category-mobile-phone/product-list/?page=63\n",
      "[-] Error On Page  https://www.digikala.com/search/category-mobile-phone/product-list/?page=63\n",
      "[x] Waiting For Load Page  https://www.digikala.com/search/category-mobile-phone/product-list/?page=64\n",
      "[-] Error On Page  https://www.digikala.com/search/category-mobile-phone/product-list/?page=64\n",
      "[x] Waiting For Load Page  https://www.digikala.com/search/category-mobile-phone/product-list/?page=65\n",
      "[-] Error On Page  https://www.digikala.com/search/category-mobile-phone/product-list/?page=65\n",
      "[x] Waiting For Load Page  https://www.digikala.com/search/category-mobile-phone/product-list/?page=66\n",
      "[-] Error On Page  https://www.digikala.com/search/category-mobile-phone/product-list/?page=66\n",
      "[x] Waiting For Load Page  https://www.digikala.com/search/category-mobile-phone/product-list/?page=67\n",
      "[-] Error On Page  https://www.digikala.com/search/category-mobile-phone/product-list/?page=67\n",
      "[x] Waiting For Load Page  https://www.digikala.com/search/category-mobile-phone/product-list/?page=68\n",
      "[-] Error On Page  https://www.digikala.com/search/category-mobile-phone/product-list/?page=68\n",
      "[x] Waiting For Load Page  https://www.digikala.com/search/category-mobile-phone/product-list/?page=69\n",
      "[-] Error On Page  https://www.digikala.com/search/category-mobile-phone/product-list/?page=69\n",
      "[x] Waiting For Load Page  https://www.digikala.com/search/category-mobile-phone/product-list/?page=70\n",
      "[-] Error On Page  https://www.digikala.com/search/category-mobile-phone/product-list/?page=70\n",
      "[x] Waiting For Load Page  https://www.digikala.com/search/category-mobile-phone/product-list/?page=71\n",
      "[-] Error On Page  https://www.digikala.com/search/category-mobile-phone/product-list/?page=71\n",
      "[x] Waiting For Load Page  https://www.digikala.com/search/category-mobile-phone/product-list/?page=72\n",
      "[-] Error On Page  https://www.digikala.com/search/category-mobile-phone/product-list/?page=72\n",
      "[x] Waiting For Load Page  https://www.digikala.com/search/category-mobile-phone/product-list/?page=73\n",
      "[-] Error On Page  https://www.digikala.com/search/category-mobile-phone/product-list/?page=73\n",
      "[x] Waiting For Load Page  https://www.digikala.com/search/category-mobile-phone/product-list/?page=74\n",
      "[-] Error On Page  https://www.digikala.com/search/category-mobile-phone/product-list/?page=74\n",
      "[x] Waiting For Load Page  https://www.digikala.com/search/category-mobile-phone/product-list/?page=75\n",
      "[-] Error On Page  https://www.digikala.com/search/category-mobile-phone/product-list/?page=75\n",
      "[x] Waiting For Load Page  https://www.digikala.com/search/category-mobile-phone/product-list/?page=76\n",
      "[-] Error On Page  https://www.digikala.com/search/category-mobile-phone/product-list/?page=76\n",
      "[x] Waiting For Load Page  https://www.digikala.com/search/category-mobile-phone/product-list/?page=77\n",
      "[-] Error On Page  https://www.digikala.com/search/category-mobile-phone/product-list/?page=77\n",
      "[x] Waiting For Load Page  https://www.digikala.com/search/category-mobile-phone/product-list/?page=78\n",
      "[-] Error On Page  https://www.digikala.com/search/category-mobile-phone/product-list/?page=78\n",
      "[x] Waiting For Load Page  https://www.digikala.com/search/category-mobile-phone/product-list/?page=79\n",
      "[-] Error On Page  https://www.digikala.com/search/category-mobile-phone/product-list/?page=79\n",
      "[x] Waiting For Load Page  https://www.digikala.com/search/category-mobile-phone/product-list/?page=80\n",
      "[-] Error On Page  https://www.digikala.com/search/category-mobile-phone/product-list/?page=80\n",
      "[x] Waiting For Load Page  https://www.digikala.com/search/category-mobile-phone/product-list/?page=81\n",
      "[-] Error On Page  https://www.digikala.com/search/category-mobile-phone/product-list/?page=81\n",
      "[x] Waiting For Load Page  https://www.digikala.com/search/category-mobile-phone/product-list/?page=82\n",
      "[-] Error On Page  https://www.digikala.com/search/category-mobile-phone/product-list/?page=82\n",
      "[x] Waiting For Load Page  https://www.digikala.com/search/category-mobile-phone/product-list/?page=83\n",
      "[-] Error On Page  https://www.digikala.com/search/category-mobile-phone/product-list/?page=83\n",
      "[x] Waiting For Load Page  https://www.digikala.com/search/category-mobile-phone/product-list/?page=84\n",
      "[-] Error On Page  https://www.digikala.com/search/category-mobile-phone/product-list/?page=84\n",
      "[x] Waiting For Load Page  https://www.digikala.com/search/category-mobile-phone/product-list/?page=85\n",
      "[-] Error On Page  https://www.digikala.com/search/category-mobile-phone/product-list/?page=85\n",
      "[x] Waiting For Load Page  https://www.digikala.com/search/category-mobile-phone/product-list/?page=86\n",
      "[-] Error On Page  https://www.digikala.com/search/category-mobile-phone/product-list/?page=86\n",
      "[x] Waiting For Load Page  https://www.digikala.com/search/category-mobile-phone/product-list/?page=87\n",
      "[-] Error On Page  https://www.digikala.com/search/category-mobile-phone/product-list/?page=87\n",
      "[x] Waiting For Load Page  https://www.digikala.com/search/category-mobile-phone/product-list/?page=88\n",
      "[-] Error On Page  https://www.digikala.com/search/category-mobile-phone/product-list/?page=88\n",
      "[x] Waiting For Load Page  https://www.digikala.com/search/category-mobile-phone/product-list/?page=89\n",
      "[-] Error On Page  https://www.digikala.com/search/category-mobile-phone/product-list/?page=89\n",
      "[x] Waiting For Load Page  https://www.digikala.com/search/category-mobile-phone/product-list/?page=90\n",
      "[-] Error On Page  https://www.digikala.com/search/category-mobile-phone/product-list/?page=90\n",
      "[x] Waiting For Load Page  https://www.digikala.com/search/category-mobile-phone/product-list/?page=91\n",
      "[-] Error On Page  https://www.digikala.com/search/category-mobile-phone/product-list/?page=91\n",
      "[x] Waiting For Load Page  https://www.digikala.com/search/category-mobile-phone/product-list/?page=92\n",
      "[-] Error On Page  https://www.digikala.com/search/category-mobile-phone/product-list/?page=92\n",
      "[x] Waiting For Load Page  https://www.digikala.com/search/category-mobile-phone/product-list/?page=93\n",
      "[-] Error On Page  https://www.digikala.com/search/category-mobile-phone/product-list/?page=93\n",
      "[x] Waiting For Load Page  https://www.digikala.com/search/category-mobile-phone/product-list/?page=94\n",
      "[-] Error On Page  https://www.digikala.com/search/category-mobile-phone/product-list/?page=94\n",
      "[x] Waiting For Load Page  https://www.digikala.com/search/category-mobile-phone/product-list/?page=95\n",
      "[-] Error On Page  https://www.digikala.com/search/category-mobile-phone/product-list/?page=95\n",
      "[x] Waiting For Load Page  https://www.digikala.com/search/category-mobile-phone/product-list/?page=96\n",
      "[-] Error On Page  https://www.digikala.com/search/category-mobile-phone/product-list/?page=96\n",
      "[x] Waiting For Load Page  https://www.digikala.com/search/category-mobile-phone/product-list/?page=97\n",
      "[-] Error On Page  https://www.digikala.com/search/category-mobile-phone/product-list/?page=97\n",
      "[x] Waiting For Load Page  https://www.digikala.com/search/category-mobile-phone/product-list/?page=98\n",
      "[-] Error On Page  https://www.digikala.com/search/category-mobile-phone/product-list/?page=98\n",
      "[x] Waiting For Load Page  https://www.digikala.com/search/category-mobile-phone/product-list/?page=99\n",
      "[-] Error On Page  https://www.digikala.com/search/category-mobile-phone/product-list/?page=99\n"
     ]
    }
   ],
   "source": [
    "url = input(\"Enter The List Of Product Like This Link:\\n[https://www.digikala.com/search/category-notebook-netbook-ultrabook/]\\nLink: \")\n",
    "system(\"clear\")\n",
    "print(\"[x] Waiting For Load Driver . . .\") ## LOG\n",
    "driver = webdriver.Firefox(executable_path=\"C://geckodriver.exe\")\n",
    "system(\"clear\")\n",
    "main(url)"
   ]
  }
 ],
 "metadata": {
  "kernelspec": {
   "display_name": "Python 3.8.2 64-bit",
   "language": "python",
   "name": "python3"
  },
  "language_info": {
   "codemirror_mode": {
    "name": "ipython",
    "version": 3
   },
   "file_extension": ".py",
   "mimetype": "text/x-python",
   "name": "python",
   "nbconvert_exporter": "python",
   "pygments_lexer": "ipython3",
   "version": "3.8.2"
  },
  "orig_nbformat": 4,
  "vscode": {
   "interpreter": {
    "hash": "6a926afa313b26ae1264fdcf81c726a97e69f6ba2ba780f6aa901948710f8d6e"
   }
  }
 },
 "nbformat": 4,
 "nbformat_minor": 2
}
